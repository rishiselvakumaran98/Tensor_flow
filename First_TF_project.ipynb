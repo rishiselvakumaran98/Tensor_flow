{
  "nbformat": 4,
  "nbformat_minor": 0,
  "metadata": {
    "colab": {
      "name": "First_TF_project.ipynb",
      "provenance": [],
      "authorship_tag": "ABX9TyMVF6eBdYrGAjdMrUTWP6XC",
      "include_colab_link": true
    },
    "kernelspec": {
      "name": "python3",
      "display_name": "Python 3"
    }
  },
  "cells": [
    {
      "cell_type": "markdown",
      "metadata": {
        "id": "view-in-github",
        "colab_type": "text"
      },
      "source": [
        "<a href=\"https://colab.research.google.com/github/rishiselvakumaran98/Tensor_flow/blob/master/First_TF_project.ipynb\" target=\"_parent\"><img src=\"https://colab.research.google.com/assets/colab-badge.svg\" alt=\"Open In Colab\"/></a>"
      ]
    },
    {
      "cell_type": "code",
      "metadata": {
        "id": "gwC-QZaUpK9G"
      },
      "source": [
        "!pip install tensorflow==2.0.0-alpha0\n",
        "\n"
      ],
      "execution_count": null,
      "outputs": []
    }
  ]
}